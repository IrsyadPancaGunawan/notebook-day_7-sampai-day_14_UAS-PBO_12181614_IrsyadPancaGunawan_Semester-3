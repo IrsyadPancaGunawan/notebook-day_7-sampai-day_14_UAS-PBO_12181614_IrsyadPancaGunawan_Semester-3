{
 "cells": [
  {
   "cell_type": "code",
   "execution_count": 1,
   "metadata": {},
   "outputs": [
    {
     "data": {
      "text/plain": [
       "com.twosigma.beaker.javash.bkr7a039e63.Kemampuan"
      ]
     },
     "execution_count": 1,
     "metadata": {},
     "output_type": "execute_result"
    }
   ],
   "source": [
    "public interface Kemampuan {\n",
    "   void doMove();\n",
    "}"
   ]
  },
  {
   "cell_type": "code",
   "execution_count": 2,
   "metadata": {},
   "outputs": [
    {
     "data": {
      "text/plain": [
       "com.twosigma.beaker.javash.bkr7a039e63.Burung"
      ]
     },
     "execution_count": 2,
     "metadata": {},
     "output_type": "execute_result"
    }
   ],
   "source": [
    "public class Burung implements Kemampuan {\n",
    "\n",
    "   @Override\n",
    "   public void doMove() {\n",
    "      System.out.println(\"Terbang Kemampuan::Burung() method.\");\n",
    "   }\n",
    "}"
   ]
  },
  {
   "cell_type": "code",
   "execution_count": 3,
   "metadata": {},
   "outputs": [
    {
     "data": {
      "text/plain": [
       "com.twosigma.beaker.javash.bkr7a039e63.KemampuanFactory"
      ]
     },
     "execution_count": 3,
     "metadata": {},
     "output_type": "execute_result"
    }
   ],
   "source": [
    "public class KemampuanFactory {\n",
    "\t\n",
    "   //use getShape method to get object of type shape \n",
    "   static Kemampuan getKemampuan(String typeKemampuan){\n",
    "      if(typeKemampuan == null){\n",
    "         return null;\n",
    "      }\t\t\n",
    "      if(typeKemampuan.equalsIgnoreCase(\"BURUNG\")){\n",
    "         return new Burung();\n",
    "         \n",
    "      } \n",
    "      \n",
    "      return null;\n",
    "   }\n",
    "}"
   ]
  },
  {
   "cell_type": "code",
   "execution_count": 4,
   "metadata": {},
   "outputs": [
    {
     "name": "stdout",
     "output_type": "stream",
     "text": [
      "Terbang Kemampuan::Burung() method.\n"
     ]
    },
    {
     "data": {
      "text/plain": [
       "null"
      ]
     },
     "execution_count": 4,
     "metadata": {},
     "output_type": "execute_result"
    }
   ],
   "source": [
    "\n",
    "      //get an object of IkanKoi and call its doMove method.\n",
    "      Kemampuan Burung = KemampuanFactory.getKemampuan(\"BURUNG\");\n",
    "\n",
    "      //call draw method of Ikan\n",
    "      Burung.doMove();\n"
   ]
  },
  {
   "cell_type": "code",
   "execution_count": null,
   "metadata": {},
   "outputs": [],
   "source": []
  }
 ],
 "metadata": {
  "kernelspec": {
   "display_name": "Java",
   "language": "java",
   "name": "java"
  },
  "language_info": {
   "codemirror_mode": "text/x-java",
   "file_extension": ".java",
   "mimetype": "",
   "name": "Java",
   "nbconverter_exporter": "",
   "version": "1.8.0_121"
  },
  "toc": {
   "base_numbering": 1,
   "nav_menu": {},
   "number_sections": false,
   "sideBar": false,
   "skip_h1_title": false,
   "title_cell": "Table of Contents",
   "title_sidebar": "Contents",
   "toc_cell": false,
   "toc_position": {},
   "toc_section_display": false,
   "toc_window_display": false
  }
 },
 "nbformat": 4,
 "nbformat_minor": 4
}
